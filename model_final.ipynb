{
 "cells": [
  {
   "cell_type": "markdown",
   "id": "c4b657a6",
   "metadata": {},
   "source": [
    "# Moving Images in Training set to folders wrt their class ids"
   ]
  },
  {
   "cell_type": "code",
   "execution_count": 1,
   "id": "d61706f4",
   "metadata": {},
   "outputs": [],
   "source": [
    "import numpy as np \n",
    "import pandas as pd \n",
    "import os\n",
    "import matplotlib.pyplot as plt\n",
    "import cv2\n",
    "import shutil"
   ]
  },
  {
   "cell_type": "code",
   "execution_count": 2,
   "id": "0d40bb5f",
   "metadata": {},
   "outputs": [],
   "source": [
    "df = pd.read_csv(r'D:\\datathonindoml-2022\\train_labels.csv', names=['Filename','Class']) # loading the dataset "
   ]
  },
  {
   "cell_type": "code",
   "execution_count": 3,
   "id": "3ae4e620",
   "metadata": {},
   "outputs": [
    {
     "data": {
      "text/html": [
       "<div>\n",
       "<style scoped>\n",
       "    .dataframe tbody tr th:only-of-type {\n",
       "        vertical-align: middle;\n",
       "    }\n",
       "\n",
       "    .dataframe tbody tr th {\n",
       "        vertical-align: top;\n",
       "    }\n",
       "\n",
       "    .dataframe thead th {\n",
       "        text-align: right;\n",
       "    }\n",
       "</style>\n",
       "<table border=\"1\" class=\"dataframe\">\n",
       "  <thead>\n",
       "    <tr style=\"text-align: right;\">\n",
       "      <th></th>\n",
       "      <th>Filename</th>\n",
       "      <th>Class</th>\n",
       "    </tr>\n",
       "  </thead>\n",
       "  <tbody>\n",
       "    <tr>\n",
       "      <th>0</th>\n",
       "      <td>0</td>\n",
       "      <td>1</td>\n",
       "    </tr>\n",
       "    <tr>\n",
       "      <th>1</th>\n",
       "      <td>1</td>\n",
       "      <td>13</td>\n",
       "    </tr>\n",
       "    <tr>\n",
       "      <th>2</th>\n",
       "      <td>2</td>\n",
       "      <td>13</td>\n",
       "    </tr>\n",
       "    <tr>\n",
       "      <th>3</th>\n",
       "      <td>3</td>\n",
       "      <td>14</td>\n",
       "    </tr>\n",
       "    <tr>\n",
       "      <th>4</th>\n",
       "      <td>4</td>\n",
       "      <td>6</td>\n",
       "    </tr>\n",
       "    <tr>\n",
       "      <th>...</th>\n",
       "      <td>...</td>\n",
       "      <td>...</td>\n",
       "    </tr>\n",
       "    <tr>\n",
       "      <th>15995</th>\n",
       "      <td>15995</td>\n",
       "      <td>2</td>\n",
       "    </tr>\n",
       "    <tr>\n",
       "      <th>15996</th>\n",
       "      <td>15996</td>\n",
       "      <td>15</td>\n",
       "    </tr>\n",
       "    <tr>\n",
       "      <th>15997</th>\n",
       "      <td>15997</td>\n",
       "      <td>3</td>\n",
       "    </tr>\n",
       "    <tr>\n",
       "      <th>15998</th>\n",
       "      <td>15998</td>\n",
       "      <td>9</td>\n",
       "    </tr>\n",
       "    <tr>\n",
       "      <th>15999</th>\n",
       "      <td>15999</td>\n",
       "      <td>9</td>\n",
       "    </tr>\n",
       "  </tbody>\n",
       "</table>\n",
       "<p>16000 rows × 2 columns</p>\n",
       "</div>"
      ],
      "text/plain": [
       "       Filename  Class\n",
       "0             0      1\n",
       "1             1     13\n",
       "2             2     13\n",
       "3             3     14\n",
       "4             4      6\n",
       "...         ...    ...\n",
       "15995     15995      2\n",
       "15996     15996     15\n",
       "15997     15997      3\n",
       "15998     15998      9\n",
       "15999     15999      9\n",
       "\n",
       "[16000 rows x 2 columns]"
      ]
     },
     "execution_count": 3,
     "metadata": {},
     "output_type": "execute_result"
    }
   ],
   "source": [
    "df"
   ]
  },
  {
   "cell_type": "code",
   "execution_count": 4,
   "id": "1c907174",
   "metadata": {},
   "outputs": [],
   "source": [
    "labels = df.sort_values('Class')\n",
    "class_names = list(labels.Class.unique()) # generating list of uniques class id's"
   ]
  },
  {
   "cell_type": "code",
   "execution_count": 5,
   "id": "e6206601",
   "metadata": {},
   "outputs": [
    {
     "data": {
      "text/plain": [
       "[0, 1, 2, 3, 4, 5, 6, 7, 8, 9, 10, 11, 12, 13, 14, 15]"
      ]
     },
     "execution_count": 5,
     "metadata": {},
     "output_type": "execute_result"
    }
   ],
   "source": [
    "class_names"
   ]
  },
  {
   "cell_type": "code",
   "execution_count": 6,
   "id": "e7ddab80",
   "metadata": {},
   "outputs": [
    {
     "name": "stdout",
     "output_type": "stream",
     "text": [
      "Folder  0 completed successfully\n",
      "Folder  1 completed successfully\n",
      "Folder  2 completed successfully\n",
      "Folder  3 completed successfully\n",
      "Folder  4 completed successfully\n",
      "Folder  5 completed successfully\n",
      "Folder  6 completed successfully\n",
      "Folder  7 completed successfully\n",
      "Folder  8 completed successfully\n",
      "Folder  9 completed successfully\n",
      "Folder  10 completed successfully\n",
      "Folder  11 completed successfully\n",
      "Folder  12 completed successfully\n",
      "Folder  13 completed successfully\n",
      "Folder  14 completed successfully\n",
      "Folder  15 completed successfully\n"
     ]
    }
   ],
   "source": [
    "# building directory to store images wrt their class id given in the excel sheel \n",
    "for i in class_names:\n",
    "    try:\n",
    "        os.makedirs(os.path.join('D:/datathonindoml-2022/train_',str(i)), exist_ok = True)\n",
    "        print(\"Folder \", str(i), \"completed successfully\")\n",
    "    except OSError as error:\n",
    "        print(\"Folder \", str(i), \"couldn't made\")"
   ]
  },
  {
   "cell_type": "code",
   "execution_count": 7,
   "id": "c158ac7c",
   "metadata": {},
   "outputs": [],
   "source": [
    "# seperating images and storing them in folders according to their id \n",
    "for i in class_names:   \n",
    "    for c in list(df[df['Class']== i]['Filename']):  \n",
    "        get_image = os.path.join('D:/datathonindoml-2022/train/train/'+str(c)+'.tif')\n",
    "        move_image = shutil.copy(get_image,'D:/datathonindoml-2022/train_/'+ str(i) +'/')"
   ]
  },
  {
   "cell_type": "markdown",
   "id": "7f153605",
   "metadata": {},
   "source": [
    "# Generating Training set"
   ]
  },
  {
   "cell_type": "code",
   "execution_count": 8,
   "id": "0949c81a",
   "metadata": {},
   "outputs": [],
   "source": [
    "import tensorflow as tf\n",
    "from tensorflow.keras import datasets,layers,models\n",
    "import matplotlib.pyplot as plt\n",
    "import numpy as np\n",
    "import os\n",
    "import cv2\n",
    "from tensorflow.keras.models import Sequential\n",
    "from tensorflow.keras.callbacks import EarlyStopping\n",
    "from tensorflow.keras.utils import to_categorical"
   ]
  },
  {
   "cell_type": "code",
   "execution_count": 9,
   "id": "a0fe76e0",
   "metadata": {},
   "outputs": [],
   "source": [
    "import random\n",
    "seed_constant=27\n",
    "np.random.seed(seed_constant)\n",
    "random.seed(seed_constant)\n",
    "tf.random.set_seed(seed_constant)"
   ]
  },
  {
   "cell_type": "code",
   "execution_count": 10,
   "id": "8a57060b",
   "metadata": {},
   "outputs": [],
   "source": [
    "CLASSES_LIST=[\"0\",\"1\",\"2\",\"3\",\"4\",\"5\",\"6\",\"7\",\"8\",\"9\",\"10\",\"11\",\"12\",\"13\",\"14\",\"15\"] # declaring class list\n",
    "DATASET_DIR=r\"D:/datathonindoml-2022/train_\" # declaring directory where images are stored"
   ]
  },
  {
   "cell_type": "code",
   "execution_count": 11,
   "id": "48232914",
   "metadata": {},
   "outputs": [],
   "source": [
    "IMG_SIZE=224 # declaring image size for resizing image"
   ]
  },
  {
   "cell_type": "code",
   "execution_count": 12,
   "id": "2eb28160",
   "metadata": {},
   "outputs": [],
   "source": [
    "# creating a function to create training set\n",
    "def create_dataset():\n",
    "    s = []\n",
    "    labels = []\n",
    "    for class_index, class_name in enumerate(CLASSES_LIST):\n",
    "        files_list = os.listdir(\"D:/datathonindoml-2022/train_/\"+str(class_name))\n",
    "        for file_name in files_list:\n",
    "            path=(\"D:/datathonindoml-2022/train_/\"+str(class_name)+\"/\" +file_name)\n",
    "            image=cv2.resize(cv2.imread(path),(IMG_SIZE,IMG_SIZE))  \n",
    "            s.append(np.array(image))  \n",
    "            labels.append(class_index)\n",
    "    features = np.asarray(s)\n",
    "    labels = np.array(labels)\n",
    "    return features, labels\n",
    "        "
   ]
  },
  {
   "cell_type": "code",
   "execution_count": 13,
   "id": "cb466866",
   "metadata": {},
   "outputs": [],
   "source": [
    "features, labels = create_dataset()"
   ]
  },
  {
   "cell_type": "code",
   "execution_count": 14,
   "id": "d386edcd",
   "metadata": {},
   "outputs": [
    {
     "name": "stdout",
     "output_type": "stream",
     "text": [
      "(16000, 224, 224, 3)\n",
      "(16000,)\n"
     ]
    }
   ],
   "source": [
    "\n",
    "print(features.shape)\n",
    "print(labels.shape)"
   ]
  },
  {
   "cell_type": "code",
   "execution_count": 15,
   "id": "3c03a3a6",
   "metadata": {},
   "outputs": [],
   "source": [
    "one_hot_encoded_labels = to_categorical(labels) # converting labels to one hot encoded labels."
   ]
  },
  {
   "cell_type": "code",
   "execution_count": 16,
   "id": "664ddfef",
   "metadata": {},
   "outputs": [
    {
     "data": {
      "text/plain": [
       "array([ 0,  0,  0, ..., 15, 15, 15])"
      ]
     },
     "execution_count": 16,
     "metadata": {},
     "output_type": "execute_result"
    }
   ],
   "source": [
    "labels"
   ]
  },
  {
   "cell_type": "code",
   "execution_count": 17,
   "id": "db240edd",
   "metadata": {},
   "outputs": [],
   "source": [
    "# splitting data into training and test set\n",
    "from sklearn.model_selection import train_test_split\n",
    "features_train, features_test, labels_train, labels_test = train_test_split(features, one_hot_encoded_labels,\n",
    "                                                                            test_size = 0.00001, shuffle = True,\n",
    "                                                                            random_state=seed_constant\n",
    "                                                                            ) "
   ]
  },
  {
   "cell_type": "code",
   "execution_count": 18,
   "id": "27a024f8",
   "metadata": {},
   "outputs": [
    {
     "data": {
      "text/plain": [
       "[5]"
      ]
     },
     "execution_count": 18,
     "metadata": {},
     "output_type": "execute_result"
    }
   ],
   "source": [
    "y_classes = [np.argmax(element) for element in labels_test]\n",
    "y_classes[:5]"
   ]
  },
  {
   "cell_type": "code",
   "execution_count": 19,
   "id": "8c24674d",
   "metadata": {},
   "outputs": [
    {
     "name": "stdout",
     "output_type": "stream",
     "text": [
      "15999\n",
      "15999\n"
     ]
    }
   ],
   "source": [
    "print(len(labels_train))\n",
    "print(len(features_train))"
   ]
  },
  {
   "cell_type": "code",
   "execution_count": 20,
   "id": "9571ccce",
   "metadata": {},
   "outputs": [],
   "source": [
    "features_train=features_train/255 # normalising feature set"
   ]
  },
  {
   "cell_type": "code",
   "execution_count": 21,
   "id": "dfbe00c5",
   "metadata": {},
   "outputs": [
    {
     "data": {
      "text/plain": [
       "(15999, 224, 224, 3)"
      ]
     },
     "execution_count": 21,
     "metadata": {},
     "output_type": "execute_result"
    }
   ],
   "source": [
    " features_train.shape"
   ]
  },
  {
   "cell_type": "markdown",
   "id": "0f515731",
   "metadata": {},
   "source": [
    "# Model"
   ]
  },
  {
   "cell_type": "code",
   "execution_count": 22,
   "id": "bfd77e49",
   "metadata": {},
   "outputs": [],
   "source": [
    "cnn = models.Sequential([\n",
    "    layers.Conv2D(filters=32, kernel_size=(3, 3), activation='relu',  strides=(2, 2), padding=\"same\", input_shape=(224, 224, 3)),\n",
    "\n",
    "    layers.MaxPooling2D((2,2)),\n",
    "    layers.Dropout(0.10),\n",
    "    layers.Conv2D(64 ,(3, 3), activation='relu'),\n",
    "    layers.MaxPooling2D((2,2)),\n",
    "    layers.Dropout(0.10),\n",
    "    layers.Conv2D(128, (3, 3), activation='relu'),\n",
    "    layers.MaxPooling2D((2,2)),\n",
    "    layers.Dropout(0.10),    \n",
    "    \n",
    "    layers.Flatten(),\n",
    "    layers.Dense(512,activation='relu'),\n",
    "    layers.Dropout(0.10),\n",
    "    layers.Dense(254,activation='relu'),\n",
    "    layers.Dropout(0.10),\n",
    "    layers.Dense(128,activation='relu'),\n",
    "    layers.Dropout(0.10),\n",
    "    layers.Dense(64,activation='relu'),\n",
    "    layers.Dropout(0.10),\n",
    "    layers.Dense(16, activation='softmax')\n",
    "])"
   ]
  },
  {
   "cell_type": "code",
   "execution_count": 23,
   "id": "a3d5a61a",
   "metadata": {},
   "outputs": [
    {
     "name": "stdout",
     "output_type": "stream",
     "text": [
      "Model: \"sequential\"\n",
      "_________________________________________________________________\n",
      " Layer (type)                Output Shape              Param #   \n",
      "=================================================================\n",
      " conv2d (Conv2D)             (None, 112, 112, 32)      896       \n",
      "                                                                 \n",
      " max_pooling2d (MaxPooling2D  (None, 56, 56, 32)       0         \n",
      " )                                                               \n",
      "                                                                 \n",
      " dropout (Dropout)           (None, 56, 56, 32)        0         \n",
      "                                                                 \n",
      " conv2d_1 (Conv2D)           (None, 54, 54, 64)        18496     \n",
      "                                                                 \n",
      " max_pooling2d_1 (MaxPooling  (None, 27, 27, 64)       0         \n",
      " 2D)                                                             \n",
      "                                                                 \n",
      " dropout_1 (Dropout)         (None, 27, 27, 64)        0         \n",
      "                                                                 \n",
      " conv2d_2 (Conv2D)           (None, 25, 25, 128)       73856     \n",
      "                                                                 \n",
      " max_pooling2d_2 (MaxPooling  (None, 12, 12, 128)      0         \n",
      " 2D)                                                             \n",
      "                                                                 \n",
      " dropout_2 (Dropout)         (None, 12, 12, 128)       0         \n",
      "                                                                 \n",
      " flatten (Flatten)           (None, 18432)             0         \n",
      "                                                                 \n",
      " dense (Dense)               (None, 512)               9437696   \n",
      "                                                                 \n",
      " dropout_3 (Dropout)         (None, 512)               0         \n",
      "                                                                 \n",
      " dense_1 (Dense)             (None, 254)               130302    \n",
      "                                                                 \n",
      " dropout_4 (Dropout)         (None, 254)               0         \n",
      "                                                                 \n",
      " dense_2 (Dense)             (None, 128)               32640     \n",
      "                                                                 \n",
      " dropout_5 (Dropout)         (None, 128)               0         \n",
      "                                                                 \n",
      " dense_3 (Dense)             (None, 64)                8256      \n",
      "                                                                 \n",
      " dropout_6 (Dropout)         (None, 64)                0         \n",
      "                                                                 \n",
      " dense_4 (Dense)             (None, 16)                1040      \n",
      "                                                                 \n",
      "=================================================================\n",
      "Total params: 9,703,182\n",
      "Trainable params: 9,703,182\n",
      "Non-trainable params: 0\n",
      "_________________________________________________________________\n"
     ]
    }
   ],
   "source": [
    "cnn.summary()"
   ]
  },
  {
   "cell_type": "code",
   "execution_count": 24,
   "id": "92733af7",
   "metadata": {},
   "outputs": [],
   "source": [
    "from tensorflow.keras.callbacks import EarlyStopping\n",
    "early_stopping_callback = EarlyStopping(monitor = 'val_loss', patience = 5, mode = 'min', restore_best_weights = True)\n",
    "cnn.compile(optimizer='adam',\n",
    "             loss='categorical_crossentropy',\n",
    "             metrics=['accuracy'])\n"
   ]
  },
  {
   "cell_type": "code",
   "execution_count": 18,
   "id": "dac9a2a7",
   "metadata": {},
   "outputs": [
    {
     "name": "stdout",
     "output_type": "stream",
     "text": [
      "Epoch 1/40\n",
      "400/400 [==============================] - 177s 431ms/step - loss: 2.4821 - accuracy: 0.1967 - val_loss: 2.0410 - val_accuracy: 0.3500\n",
      "Epoch 2/40\n",
      "400/400 [==============================] - 152s 381ms/step - loss: 1.9080 - accuracy: 0.4036 - val_loss: 1.6792 - val_accuracy: 0.4731\n",
      "Epoch 3/40\n",
      "400/400 [==============================] - 152s 381ms/step - loss: 1.6260 - accuracy: 0.5036 - val_loss: 1.4710 - val_accuracy: 0.5497\n",
      "Epoch 4/40\n",
      "400/400 [==============================] - 153s 383ms/step - loss: 1.3710 - accuracy: 0.5844 - val_loss: 1.3841 - val_accuracy: 0.5875\n",
      "Epoch 5/40\n",
      "400/400 [==============================] - 155s 387ms/step - loss: 1.1726 - accuracy: 0.6426 - val_loss: 1.3531 - val_accuracy: 0.5959\n",
      "Epoch 6/40\n",
      "400/400 [==============================] - 154s 385ms/step - loss: 0.9869 - accuracy: 0.6972 - val_loss: 1.3610 - val_accuracy: 0.6141\n",
      "Epoch 7/40\n",
      "400/400 [==============================] - 151s 378ms/step - loss: 0.8429 - accuracy: 0.7466 - val_loss: 1.3723 - val_accuracy: 0.6241\n",
      "Epoch 8/40\n",
      "400/400 [==============================] - 150s 375ms/step - loss: 0.6749 - accuracy: 0.7925 - val_loss: 1.4895 - val_accuracy: 0.6106\n",
      "Epoch 9/40\n",
      "400/400 [==============================] - 148s 369ms/step - loss: 0.5497 - accuracy: 0.8333 - val_loss: 1.5675 - val_accuracy: 0.6256\n",
      "Epoch 10/40\n",
      "400/400 [==============================] - 148s 370ms/step - loss: 0.4546 - accuracy: 0.8591 - val_loss: 1.6232 - val_accuracy: 0.6237\n"
     ]
    },
    {
     "data": {
      "text/plain": [
       "<keras.callbacks.History at 0x211482751f0>"
      ]
     },
     "execution_count": 18,
     "metadata": {},
     "output_type": "execute_result"
    }
   ],
   "source": [
    "cnn.fit(features_train,labels_train,epochs=40, batch_size = 32 ,shuffle = True,validation_split = 0.20,callbacks=[early_stopping_callback])"
   ]
  },
  {
   "cell_type": "markdown",
   "id": "6a9bc11d",
   "metadata": {},
   "source": [
    "# saving and loading the model"
   ]
  },
  {
   "cell_type": "code",
   "execution_count": null,
   "id": "98c4ce6c",
   "metadata": {},
   "outputs": [],
   "source": [
    "cnn.save('model_final.h5')"
   ]
  },
  {
   "cell_type": "code",
   "execution_count": 25,
   "id": "b84f4907",
   "metadata": {},
   "outputs": [],
   "source": [
    "from keras.models import load_model\n",
    "model = load_model('model_final.h5')\n"
   ]
  },
  {
   "cell_type": "markdown",
   "id": "795d1db3",
   "metadata": {},
   "source": [
    "# Generating results on validation set"
   ]
  },
  {
   "cell_type": "code",
   "execution_count": 26,
   "id": "c4bce1de",
   "metadata": {},
   "outputs": [],
   "source": [
    "DATASET_DIR=r\"D:/datathonindoml-2022/validation/validation\""
   ]
  },
  {
   "cell_type": "code",
   "execution_count": 27,
   "id": "1a9cedb9",
   "metadata": {},
   "outputs": [],
   "source": [
    "def create_dataset_val():\n",
    "    s = []\n",
    "    files_list = os.listdir(DATASET_DIR)\n",
    "    for file_name in files_list:\n",
    "        path=(DATASET_DIR+\"/\" +file_name)\n",
    "        image=cv2.resize(cv2.imread(path),(IMG_SIZE,IMG_SIZE))  \n",
    "        s.append(np.array(image))  \n",
    "    features = np.asarray(s)\n",
    "    return features\n",
    "        "
   ]
  },
  {
   "cell_type": "code",
   "execution_count": 28,
   "id": "a8c9f229",
   "metadata": {},
   "outputs": [],
   "source": [
    "features = create_dataset_val()"
   ]
  },
  {
   "cell_type": "code",
   "execution_count": 29,
   "id": "02a6aa13",
   "metadata": {},
   "outputs": [],
   "source": [
    "file=[i for i in range(17801,18701)]"
   ]
  },
  {
   "cell_type": "code",
   "execution_count": 30,
   "id": "fe367210",
   "metadata": {},
   "outputs": [
    {
     "name": "stdout",
     "output_type": "stream",
     "text": [
      "29/29 [==============================] - 3s 89ms/step\n"
     ]
    }
   ],
   "source": [
    "y_pred = model.predict(features)"
   ]
  },
  {
   "cell_type": "code",
   "execution_count": 31,
   "id": "cd59a3b2",
   "metadata": {},
   "outputs": [],
   "source": [
    "y_classes = [np.argmax(element) for element in y_pred]"
   ]
  },
  {
   "cell_type": "code",
   "execution_count": 32,
   "id": "b07edc93",
   "metadata": {},
   "outputs": [],
   "source": [
    "import pandas as pd"
   ]
  },
  {
   "cell_type": "code",
   "execution_count": 33,
   "id": "f2f697ed",
   "metadata": {},
   "outputs": [],
   "source": [
    "df=pd.DataFrame({'id':file,'label':y_classes})"
   ]
  },
  {
   "cell_type": "code",
   "execution_count": 34,
   "id": "eef28df3",
   "metadata": {},
   "outputs": [],
   "source": [
    "df.to_csv('submission_final.csv',index=False)"
   ]
  },
  {
   "cell_type": "code",
   "execution_count": null,
   "id": "b3669b21",
   "metadata": {},
   "outputs": [],
   "source": []
  }
 ],
 "metadata": {
  "kernelspec": {
   "display_name": "Python 3 (ipykernel)",
   "language": "python",
   "name": "python3"
  },
  "language_info": {
   "codemirror_mode": {
    "name": "ipython",
    "version": 3
   },
   "file_extension": ".py",
   "mimetype": "text/x-python",
   "name": "python",
   "nbconvert_exporter": "python",
   "pygments_lexer": "ipython3",
   "version": "3.9.12"
  }
 },
 "nbformat": 4,
 "nbformat_minor": 5
}
