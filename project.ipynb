{
 "cells": [
  {
   "cell_type": "code",
   "execution_count": 1,
   "id": "10669fce",
   "metadata": {},
   "outputs": [],
   "source": [
    "import numpy as np \n",
    "import pandas as pd \n",
    "import os\n",
    "import matplotlib.pyplot as plt\n",
    "import cv2\n",
    "\n",
    "\n"
   ]
  },
  {
   "cell_type": "code",
   "execution_count": 2,
   "id": "ca6fa5da",
   "metadata": {},
   "outputs": [],
   "source": [
    "import shutil \n",
    "import os"
   ]
  },
  {
   "cell_type": "code",
   "execution_count": 3,
   "id": "36dbf987",
   "metadata": {},
   "outputs": [],
   "source": [
    "df = pd.read_csv('./train_labels.csv', names=['Filename','Class'])"
   ]
  },
  {
   "cell_type": "code",
   "execution_count": 4,
   "id": "399a35db",
   "metadata": {},
   "outputs": [
    {
     "data": {
      "text/html": [
       "<div>\n",
       "<style scoped>\n",
       "    .dataframe tbody tr th:only-of-type {\n",
       "        vertical-align: middle;\n",
       "    }\n",
       "\n",
       "    .dataframe tbody tr th {\n",
       "        vertical-align: top;\n",
       "    }\n",
       "\n",
       "    .dataframe thead th {\n",
       "        text-align: right;\n",
       "    }\n",
       "</style>\n",
       "<table border=\"1\" class=\"dataframe\">\n",
       "  <thead>\n",
       "    <tr style=\"text-align: right;\">\n",
       "      <th></th>\n",
       "      <th>Filename</th>\n",
       "      <th>Class</th>\n",
       "    </tr>\n",
       "  </thead>\n",
       "  <tbody>\n",
       "    <tr>\n",
       "      <th>0</th>\n",
       "      <td>0</td>\n",
       "      <td>1</td>\n",
       "    </tr>\n",
       "    <tr>\n",
       "      <th>1</th>\n",
       "      <td>1</td>\n",
       "      <td>13</td>\n",
       "    </tr>\n",
       "    <tr>\n",
       "      <th>2</th>\n",
       "      <td>2</td>\n",
       "      <td>13</td>\n",
       "    </tr>\n",
       "    <tr>\n",
       "      <th>3</th>\n",
       "      <td>3</td>\n",
       "      <td>14</td>\n",
       "    </tr>\n",
       "    <tr>\n",
       "      <th>4</th>\n",
       "      <td>4</td>\n",
       "      <td>6</td>\n",
       "    </tr>\n",
       "    <tr>\n",
       "      <th>...</th>\n",
       "      <td>...</td>\n",
       "      <td>...</td>\n",
       "    </tr>\n",
       "    <tr>\n",
       "      <th>15995</th>\n",
       "      <td>15995</td>\n",
       "      <td>2</td>\n",
       "    </tr>\n",
       "    <tr>\n",
       "      <th>15996</th>\n",
       "      <td>15996</td>\n",
       "      <td>15</td>\n",
       "    </tr>\n",
       "    <tr>\n",
       "      <th>15997</th>\n",
       "      <td>15997</td>\n",
       "      <td>3</td>\n",
       "    </tr>\n",
       "    <tr>\n",
       "      <th>15998</th>\n",
       "      <td>15998</td>\n",
       "      <td>9</td>\n",
       "    </tr>\n",
       "    <tr>\n",
       "      <th>15999</th>\n",
       "      <td>15999</td>\n",
       "      <td>9</td>\n",
       "    </tr>\n",
       "  </tbody>\n",
       "</table>\n",
       "<p>16000 rows × 2 columns</p>\n",
       "</div>"
      ],
      "text/plain": [
       "       Filename  Class\n",
       "0             0      1\n",
       "1             1     13\n",
       "2             2     13\n",
       "3             3     14\n",
       "4             4      6\n",
       "...         ...    ...\n",
       "15995     15995      2\n",
       "15996     15996     15\n",
       "15997     15997      3\n",
       "15998     15998      9\n",
       "15999     15999      9\n",
       "\n",
       "[16000 rows x 2 columns]"
      ]
     },
     "execution_count": 4,
     "metadata": {},
     "output_type": "execute_result"
    }
   ],
   "source": [
    "df"
   ]
  },
  {
   "cell_type": "code",
   "execution_count": 5,
   "id": "6b19f505",
   "metadata": {},
   "outputs": [],
   "source": [
    "labels = df.sort_values('Class')\n",
    "class_names = list(labels.Class.unique())"
   ]
  },
  {
   "cell_type": "code",
   "execution_count": 6,
   "id": "8bfe7582",
   "metadata": {},
   "outputs": [
    {
     "data": {
      "text/plain": [
       "[0, 1, 2, 3, 4, 5, 6, 7, 8, 9, 10, 11, 12, 13, 14, 15]"
      ]
     },
     "execution_count": 6,
     "metadata": {},
     "output_type": "execute_result"
    }
   ],
   "source": [
    "class_names"
   ]
  },
  {
   "cell_type": "markdown",
   "id": "97008824",
   "metadata": {},
   "source": [
    "moving the image files in the folders"
   ]
  },
  {
   "cell_type": "code",
   "execution_count": 10,
   "id": "24fa885d",
   "metadata": {},
   "outputs": [],
   "source": [
    "for i in class_names:\n",
    "    os.makedirs(os.path.join('train_',str(i)))"
   ]
  },
  {
   "cell_type": "code",
   "execution_count": 11,
   "id": "e7da4416",
   "metadata": {},
   "outputs": [],
   "source": [
    "i=list(df[df['Class']==0]['Filename'])[0]"
   ]
  },
  {
   "cell_type": "code",
   "execution_count": 12,
   "id": "4872c776",
   "metadata": {},
   "outputs": [],
   "source": [
    "for i in class_names:   \n",
    "   \n",
    "    for c in list(df[df['Class']== i]['Filename']):  \n",
    "        get_image = os.path.join('train/'+str(c)+'.tif')\n",
    "        move_image = shutil.copy(get_image,'train_/'+ str(i) +'/')"
   ]
  },
  {
   "cell_type": "code",
   "execution_count": 13,
   "id": "f75a1d59",
   "metadata": {},
   "outputs": [
    {
     "data": {
      "text/plain": [
       "1032"
      ]
     },
     "execution_count": 13,
     "metadata": {},
     "output_type": "execute_result"
    }
   ],
   "source": [
    "len(list(df[df['Class']== 0]['Filename']))"
   ]
  },
  {
   "cell_type": "code",
   "execution_count": null,
   "id": "ba328d34",
   "metadata": {},
   "outputs": [],
   "source": []
  }
 ],
 "metadata": {
  "kernelspec": {
   "display_name": "Python 3 (ipykernel)",
   "language": "python",
   "name": "python3"
  },
  "language_info": {
   "codemirror_mode": {
    "name": "ipython",
    "version": 3
   },
   "file_extension": ".py",
   "mimetype": "text/x-python",
   "name": "python",
   "nbconvert_exporter": "python",
   "pygments_lexer": "ipython3",
   "version": "3.9.12"
  }
 },
 "nbformat": 4,
 "nbformat_minor": 5
}
